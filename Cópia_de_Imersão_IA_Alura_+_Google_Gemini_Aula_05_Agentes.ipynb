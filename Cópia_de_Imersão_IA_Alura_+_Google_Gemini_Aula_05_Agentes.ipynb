{
  "nbformat": 4,
  "nbformat_minor": 0,
  "metadata": {
    "colab": {
      "provenance": [],
      "include_colab_link": true
    },
    "kernelspec": {
      "name": "python3",
      "display_name": "Python 3"
    },
    "language_info": {
      "name": "python"
    }
  },
  "cells": [
    {
      "cell_type": "markdown",
      "metadata": {
        "id": "view-in-github",
        "colab_type": "text"
      },
      "source": [
        "<a href=\"https://colab.research.google.com/github/lilian-retori/Sistema_agentes_plataforma_cidada/blob/main/C%C3%B3pia_de_Imers%C3%A3o_IA_Alura_%2B_Google_Gemini_Aula_05_Agentes.ipynb\" target=\"_parent\"><img src=\"https://colab.research.google.com/assets/colab-badge.svg\" alt=\"Open In Colab\"/></a>"
      ]
    },
    {
      "cell_type": "code",
      "source": [
        "%pip -q install google-genai\n",
        "!pip install -q google-adk  # Correto\n",
        "\n"
      ],
      "metadata": {
        "id": "UCCbECexLk_h",
        "colab": {
          "base_uri": "https://localhost:8080/"
        },
        "outputId": "fb42d06d-ca10-4560-c93c-1a11e594df76"
      },
      "execution_count": 21,
      "outputs": [
        {
          "output_type": "stream",
          "name": "stdout",
          "text": [
            "\u001b[2K   \u001b[90m━━━━━━━━━━━━━━━━━━━━━━━━━━━━━━━━━━━━━━━━\u001b[0m \u001b[32m1.2/1.2 MB\u001b[0m \u001b[31m15.6 MB/s\u001b[0m eta \u001b[36m0:00:00\u001b[0m\n",
            "\u001b[2K   \u001b[90m━━━━━━━━━━━━━━━━━━━━━━━━━━━━━━━━━━━━━━━━\u001b[0m \u001b[32m232.1/232.1 kB\u001b[0m \u001b[31m17.4 MB/s\u001b[0m eta \u001b[36m0:00:00\u001b[0m\n",
            "\u001b[2K   \u001b[90m━━━━━━━━━━━━━━━━━━━━━━━━━━━━━━━━━━━━━━━━\u001b[0m \u001b[32m95.2/95.2 kB\u001b[0m \u001b[31m7.9 MB/s\u001b[0m eta \u001b[36m0:00:00\u001b[0m\n",
            "\u001b[2K   \u001b[90m━━━━━━━━━━━━━━━━━━━━━━━━━━━━━━━━━━━━━━━━\u001b[0m \u001b[32m217.1/217.1 kB\u001b[0m \u001b[31m16.0 MB/s\u001b[0m eta \u001b[36m0:00:00\u001b[0m\n",
            "\u001b[2K   \u001b[90m━━━━━━━━━━━━━━━━━━━━━━━━━━━━━━━━━━━━━━━━\u001b[0m \u001b[32m334.1/334.1 kB\u001b[0m \u001b[31m19.1 MB/s\u001b[0m eta \u001b[36m0:00:00\u001b[0m\n",
            "\u001b[2K   \u001b[90m━━━━━━━━━━━━━━━━━━━━━━━━━━━━━━━━━━━━━━━━\u001b[0m \u001b[32m125.1/125.1 kB\u001b[0m \u001b[31m11.7 MB/s\u001b[0m eta \u001b[36m0:00:00\u001b[0m\n",
            "\u001b[2K   \u001b[90m━━━━━━━━━━━━━━━━━━━━━━━━━━━━━━━━━━━━━━━━\u001b[0m \u001b[32m65.8/65.8 kB\u001b[0m \u001b[31m5.7 MB/s\u001b[0m eta \u001b[36m0:00:00\u001b[0m\n",
            "\u001b[2K   \u001b[90m━━━━━━━━━━━━━━━━━━━━━━━━━━━━━━━━━━━━━━━━\u001b[0m \u001b[32m119.0/119.0 kB\u001b[0m \u001b[31m9.6 MB/s\u001b[0m eta \u001b[36m0:00:00\u001b[0m\n",
            "\u001b[2K   \u001b[90m━━━━━━━━━━━━━━━━━━━━━━━━━━━━━━━━━━━━━━━━\u001b[0m \u001b[32m194.9/194.9 kB\u001b[0m \u001b[31m14.2 MB/s\u001b[0m eta \u001b[36m0:00:00\u001b[0m\n",
            "\u001b[2K   \u001b[90m━━━━━━━━━━━━━━━━━━━━━━━━━━━━━━━━━━━━━━━━\u001b[0m \u001b[32m62.5/62.5 kB\u001b[0m \u001b[31m5.3 MB/s\u001b[0m eta \u001b[36m0:00:00\u001b[0m\n",
            "\u001b[2K   \u001b[90m━━━━━━━━━━━━━━━━━━━━━━━━━━━━━━━━━━━━━━━━\u001b[0m \u001b[32m103.3/103.3 kB\u001b[0m \u001b[31m8.0 MB/s\u001b[0m eta \u001b[36m0:00:00\u001b[0m\n",
            "\u001b[2K   \u001b[90m━━━━━━━━━━━━━━━━━━━━━━━━━━━━━━━━━━━━━━━━\u001b[0m \u001b[32m44.4/44.4 kB\u001b[0m \u001b[31m3.6 MB/s\u001b[0m eta \u001b[36m0:00:00\u001b[0m\n",
            "\u001b[2K   \u001b[90m━━━━━━━━━━━━━━━━━━━━━━━━━━━━━━━━━━━━━━━━\u001b[0m \u001b[32m72.0/72.0 kB\u001b[0m \u001b[31m5.9 MB/s\u001b[0m eta \u001b[36m0:00:00\u001b[0m\n",
            "\u001b[?25h"
          ]
        }
      ]
    },
    {
      "cell_type": "code",
      "source": [
        "# Configura a API Key do Google Gemini\n",
        "\n",
        "import os\n",
        "from google.colab import userdata\n",
        "\n",
        "os.environ[\"GOOGLE_API_KEY\"] = userdata.get('GOOGLE_API_KEY')"
      ],
      "metadata": {
        "id": "NfCqHo1tLk8P"
      },
      "execution_count": 22,
      "outputs": []
    },
    {
      "cell_type": "code",
      "source": [
        "# Configura o cliente da SDK do Gemini\n",
        "from google import genai\n",
        "client = genai.Client()\n",
        "\n",
        "from google.adk.agents import Agent\n",
        "from google.adk.runners import Runner\n",
        "from google.adk.sessions import InMemorySessionService\n",
        "from google.adk.tools import google_search\n",
        "from google.genai import types  # Para criar conteúdos (Content e Part)\n",
        "from datetime import date\n",
        "import textwrap # Para formatar melhor a saída de texto\n",
        "from IPython.display import display, Markdown # Para exibir texto formatado no Colab\n",
        "import warnings\n",
        "warnings.filterwarnings(\"ignore\")\n"
      ],
      "metadata": {
        "id": "bV4w0H5TLk5g"
      },
      "execution_count": 23,
      "outputs": []
    },
    {
      "cell_type": "code",
      "source": [
        "# Função auxiliar para chamar os agentes\n",
        "def call_agent(agent: Agent, message_text: str) -> str:\n",
        "    # Cria um serviço de sessão em memória\n",
        "    session_service = InMemorySessionService()\n",
        "    session = session_service.create_session(app_name=agent.name, user_id=\"user1\", session_id=\"session1\")\n",
        "    runner = Runner(agent=agent, app_name=agent.name, session_service=session_service)\n",
        "    content = types.Content(role=\"user\", parts=[types.Part(text=message_text)])\n",
        "    final_response = \"\"\n",
        "    for event in runner.run(user_id=\"user1\", session_id=\"session1\", new_message=content):\n",
        "        if event.is_final_response():\n",
        "          for part in event.content.parts:\n",
        "            if part.text is not None:\n",
        "              final_response += part.text\n",
        "              final_response += \"\\n\"\n",
        "    return final_response"
      ],
      "metadata": {
        "id": "HwVP7Xi34Zuw"
      },
      "execution_count": 24,
      "outputs": []
    },
    {
      "cell_type": "code",
      "source": [
        "# Função auxiliar para exibir texto formatado em Markdown no Colab\n",
        "def to_markdown(text):\n",
        "  text = text.replace('•', '  *')\n",
        "  return Markdown(textwrap.indent(text, '> ', predicate=lambda _: True))"
      ],
      "metadata": {
        "id": "yXaZd7iZ4ftw"
      },
      "execution_count": 25,
      "outputs": []
    },
    {
      "cell_type": "code",
      "source": [
        "# --- Agente 1: Informador Municipal Dinâmico --- #\n",
        "def agente_informador(municipio, data_de_hoje):\n",
        "  informador = Agent(\n",
        "      name='agente_informador',\n",
        "      model = \"gemini-2.0-flash\",\n",
        "      instruction= \"\"\"\n",
        "      Você é um Informador Municipal Dinâmico para uma Plataforma Cidadã Integrada.\n",
        "\n",
        "      Sua tarefa é usar a ferramenta de busca do Google (google_search) para recuperar informações atualizadas sobre:\n",
        "      1. Serviços municipais disponíveis (horários de atendimento, documentos necessários)\n",
        "      2. Notícias locais relevantes para a comunidade\n",
        "      3. Eventos culturais e comunitários programados\n",
        "      4. Editais e alertas importantes (interdições de ruas, campanhas de vacinação, etc.)\n",
        "\n",
        "      Foque em no máximo 5 informações muito relevantes e atuais para o município especificado.\n",
        "      Priorize informações oficiais de fontes confiáveis como o site da prefeitura, secretarias municipais e veículos de comunicação locais.\n",
        "      Organize as informações de forma clara e estruturada para facilitar a compreensão dos cidadãos.\n",
        "      \"\"\",\n",
        "      description = \"Agente que centraliza e divulga informações municipais atualizadas\",\n",
        "      tools = [google_search]\n",
        "  )\n",
        "  entrada_do_agente_informador = f\"Município: {municipio}\\nData de hoje: {data_de_hoje}\"\n",
        "  informacoes = call_agent(informador, entrada_do_agente_informador)\n",
        "  return informacoes"
      ],
      "metadata": {
        "id": "xHSNlTd84heJ"
      },
      "execution_count": 31,
      "outputs": []
    },
    {
      "cell_type": "code",
      "source": [
        "# --- Agente 2: Facilitador de Participação Cidadã --- #\n",
        "def agente_facilitador(municipio, informacoes_municipais):\n",
        "    facilitador = Agent(\n",
        "        name=\"agente_facilitador\",\n",
        "        model=\"gemini-2.0-flash\",\n",
        "        instruction=\"\"\"\n",
        "        Você é um Facilitador de Participação Cidadã para uma Plataforma Cidadã Integrada.\n",
        "\n",
        "        Com base nas informações municipais fornecidas, sua tarefa é:\n",
        "        1. Identificar problemas comuns que os cidadãos podem reportar (buracos em vias, iluminação pública defeituosa, coleta de lixo irregular)\n",
        "        2. Sugerir melhorias viáveis para a cidade baseadas nas informações disponíveis\n",
        "        3. Propor temas para enquetes sobre projetos locais que engajariam a comunidade\n",
        "        4. Identificar oportunidades de voluntariado relacionadas aos eventos e necessidades do município\n",
        "\n",
        "        Use a ferramenta de busca do Google (google_search) para encontrar exemplos de participação cidadã bem-sucedidos em municípios similares que possam ser adaptados.\n",
        "\n",
        "        Ao final, crie um plano estruturado de participação cidadã com canais de comunicação, formulários sugeridos e fluxos de feedback para a administração municipal.\n",
        "        \"\"\",\n",
        "        description=\"Agente que facilita a participação cidadã no município\",\n",
        "        tools=[google_search]\n",
        "    )\n",
        "    entrada_do_agente_facilitador = f\"Município: {municipio}\\nInformações municipais: {informacoes_municipais}\"\n",
        "    plano_participacao = call_agent(facilitador, entrada_do_agente_facilitador)\n",
        "    return plano_participacao\n"
      ],
      "metadata": {
        "id": "hvZ3UnPI4jhJ"
      },
      "execution_count": 32,
      "outputs": []
    },
    {
      "cell_type": "code",
      "execution_count": 33,
      "metadata": {
        "id": "aePV2bdfDeoW"
      },
      "outputs": [],
      "source": [
        "# --- Agente 3: Promotor de Desenvolvimento Econômico Local --- #\n",
        "def agente_promotor(municipio, plano_participacao):\n",
        "    promotor = Agent(\n",
        "        name=\"agente_promotor\",\n",
        "        model=\"gemini-2.0-flash\",\n",
        "        instruction=\"\"\"\n",
        "        Você é um Promotor de Desenvolvimento Econômico Local para uma Plataforma Cidadã Integrada.\n",
        "\n",
        "        Com base no município e no plano de participação cidadã fornecidos, sua tarefa é:\n",
        "        1. Identificar oportunidades para pequenos negócios locais, produtores rurais, artesãos e prestadores de serviço\n",
        "        2. Sugerir conexões entre produtores locais e consumidores/turistas\n",
        "        3. Propor um calendário de feiras e eventos para fomento da economia local\n",
        "        4. Listar cursos de capacitação e oportunidades de microcrédito disponíveis na região\n",
        "\n",
        "        Crie um texto engajador e informativo que demonstre como a Plataforma Cidadã pode impulsionar o desenvolvimento econômico local, destacando casos de sucesso de municípios similares e adaptando para a realidade local.\n",
        "\n",
        "        O texto deve ser prático, com exemplos concretos e ações que podem ser implementadas rapidamente.\n",
        "        \"\"\",\n",
        "        description=\"Agente que promove o desenvolvimento econômico local\"\n",
        "    )\n",
        "    entrada_do_agente_promotor = f\"Município: {municipio}\\nPlano de participação: {plano_participacao}\"\n",
        "    proposta_desenvolvimento = call_agent(promotor, entrada_do_agente_promotor)\n",
        "    return proposta_desenvolvimento"
      ]
    },
    {
      "cell_type": "code",
      "source": [
        "# --- Agente 4: Descomplicador de Processos Municipais --- #\n",
        "def agente_descomplicador(municipio, proposta_desenvolvimento):\n",
        "    descomplicador = Agent(\n",
        "        name=\"agente_descomplicador\",\n",
        "        model=\"gemini-2.0-flash\",\n",
        "        instruction=\"\"\"\n",
        "        Você é um Descomplicador de Processos Municipais para uma Plataforma Cidadã Integrada.\n",
        "\n",
        "        Com base no município e na proposta de desenvolvimento econômico fornecidos, sua tarefa é:\n",
        "        1. Criar um guia passo a passo para os cidadãos obterem licenças simples (ambulante, pequenas reformas)\n",
        "        2. Explicar de forma clara como se inscrever em programas sociais municipais\n",
        "        3. Simplificar o acesso a outros serviços municipais, detalhando documentação necessária\n",
        "        4. Propor melhorias nos fluxos de atendimento para torná-los mais eficientes\n",
        "\n",
        "        Revise o conteúdo gerado verificando:\n",
        "        - Clareza e simplicidade da linguagem (evite jargões técnicos)\n",
        "        - Precisão das informações\n",
        "        - Organização lógica dos passos\n",
        "        - Acessibilidade para diferentes perfis de cidadãos\n",
        "\n",
        "        O resultado final deve ser um guia prático que realmente simplifique a vida do cidadão e demonstre o valor da Plataforma Cidadã Integrada.\n",
        "        \"\"\",\n",
        "        description=\"Agente que simplifica processos municipais para os cidadãos\",\n",
        "        tools = [google_search]\n",
        "    )\n",
        "    entrada_do_agente_descomplicador = f\"Município: {municipio}\\nProposta de desenvolvimento: {proposta_desenvolvimento}\"\n",
        "    guia_processos = call_agent(descomplicador, entrada_do_agente_descomplicador)\n",
        "    return guia_processos"
      ],
      "metadata": {
        "id": "_xP4lWhsS5ko"
      },
      "execution_count": 34,
      "outputs": []
    },
    {
      "cell_type": "code",
      "source": [
        "# Execução principal do sistema\n",
        "data_de_hoje = date.today().strftime(\"%d/%m/%Y\")\n",
        "print(\"🏙️ Iniciando o Sistema da Plataforma Cidadã Integrada para Municípios Pequenos 🏙️\")\n",
        "municipio = input(\"❓ Por favor, digite o nome do MUNICÍPIO para o qual deseja criar a Plataforma Cidadã: \")\n",
        "\n",
        "if not municipio:\n",
        "  print(\"Você esqueceu de digitar o nome do município!\")\n",
        "else:\n",
        "  print(f\"Excelente! Vamos criar a Plataforma Cidadã Integrada para {municipio}\")\n",
        "\n",
        "  # Execução do Agente 1: Informador Municipal Dinâmico\n",
        "  informacoes_municipais = agente_informador(municipio, data_de_hoje)\n",
        "  print(\"\\n--- Resultado do Agente 1 (Informador Municipal Dinâmico) ---\\n\")\n",
        "  display(to_markdown(informacoes_municipais))\n",
        "  print(\"-----------------------------------------------------------\")\n",
        "\n",
        "  # Execução do Agente 2: Facilitador de Participação Cidadã\n",
        "  plano_participacao = agente_facilitador(municipio, informacoes_municipais)\n",
        "  print(\"\\n--- Resultado do Agente 2 (Facilitador de Participação Cidadã) ---\\n\")\n",
        "  display(to_markdown(plano_participacao))\n",
        "  print(\"-----------------------------------------------------------\")\n",
        "\n",
        "  # Execução do Agente 3: Promotor de Desenvolvimento Econômico Local\n",
        "  proposta_desenvolvimento = agente_promotor(municipio, plano_participacao)\n",
        "  print(\"\\n--- Resultado do Agente 3 (Promotor de Desenvolvimento Econômico Local) ---\\n\")\n",
        "  display(to_markdown(proposta_desenvolvimento))\n",
        "  print(\"-----------------------------------------------------------\")\n",
        "\n",
        "  # Execução do Agente 4: Descomplicador de Processos Municipais\n",
        "  guia_processos = agente_descomplicador(municipio, proposta_desenvolvimento)\n",
        "  print(\"\\n--- Resultado do Agente 4 (Descomplicador de Processos Municipais) ---\\n\")\n",
        "  display(to_markdown(guia_processos))\n",
        "  print(\"-----------------------------------------------------------\")\n",
        "\n",
        "  print(\"✅ Plataforma Cidadã Integrada para Municípios Pequenos criada com sucesso! ✅\")\n"
      ],
      "metadata": {
        "id": "8dosiodaxfFR",
        "colab": {
          "base_uri": "https://localhost:8080/",
          "height": 1000
        },
        "outputId": "60295575-a353-4161-9a0c-1bf7283d4110"
      },
      "execution_count": 35,
      "outputs": [
        {
          "output_type": "stream",
          "name": "stdout",
          "text": [
            "🏙️ Iniciando o Sistema da Plataforma Cidadã Integrada para Municípios Pequenos 🏙️\n",
            "❓ Por favor, digite o nome do MUNICÍPIO para o qual deseja criar a Plataforma Cidadã: Três Corações\n",
            "Excelente! Vamos criar a Plataforma Cidadã Integrada para Três Corações\n",
            "\n",
            "--- Resultado do Agente 1 (Informador Municipal Dinâmico) ---\n",
            "\n"
          ]
        },
        {
          "output_type": "display_data",
          "data": {
            "text/plain": [
              "<IPython.core.display.Markdown object>"
            ],
            "text/markdown": "> Olá! Como Informador Municipal Dinâmico, preparei um resumo com as informações mais relevantes para os cidadãos de Três Corações, atualizado até 17 de maio de 2025:\n> \n> \n> Aqui estão as 5 informações mais relevantes para Três Corações:\n> \n> 1.  **Notícias Locais:**\n>     *   **Conclusão de Obras:** A Prefeitura de Três Corações concluiu as obras na Rua Coronel Belchior Pimenta de Abreu.\n>     *   **Evento Força e Ação:** Três Corações recebeu o evento Força e Ação.\n>     *   **Vacinação contra a Gripe:** A vacinação contra a gripe foi ampliada para toda a população a partir de 6 meses de idade. Mais de 1.600 doses foram aplicadas no Dia D de vacinação contra a gripe.\n>     *   **Educação:** Profissionais da educação já podem emitir autorizações para atuar em escolas de forma 100% digital.\n> \n> 2.  **Eventos e Cultura:**\n>     *   **Dia da Luta Antimanicomial:** Três Corações se mobilizou no Dia da Luta Antimanicomial com um evento na Praça Odilon.\n>     *   **Homenagem à ESA:** A Prefeitura está preparando uma homenagem especial pelos 75 anos da Escola de Sargentos das Armas (ESA) no município.\n> \n> 3.  **Editais e Licitações:**\n>     *   A prefeitura abriu novos editais de Processo Seletivo Simplificado para contratação por tempo determinado (Editais 11/2024, 12/2024, 13/2024 e 14/2024). As inscrições iniciaram em 27 de novembro e seguem até 01 de dezembro de 2024.\n>     *   Diversos editais de licitação estão abertos, incluindo contratação de empresa especializada em hospedagem para atender às necessidades das secretarias da prefeitura e aquisição de peças para atender às secretarias municipais.\n> \n> 4.  **Serviços Municipais:**\n>     *   A Prefeitura oferece diversos serviços online, incluindo emissão de Nota Fiscal Eletrônica (NFS-e), serviços ao cidadão, portal da educação, entre outros.\n>     *   A Unidade de Atendimento Integrado (UAI) está localizada na Avenida Rei Pelé, 1048, Bairro Nossa Senhora Aparecida, com atendimento de segunda a sexta-feira, das 9h às 15h. Telefone: (35) 3239-7500.\n> \n> 5.  **Outros Alertas:**\n>     *   **Alerta Licitação:** Edital 90021/2025 para contratação de empresa especializada em hospedagem para atender às necessidades das secretarias da prefeitura. Abertura em 28/05/2025.\n>     * Ponte do Atalho interditada, mas projeto para nova estrutura já está pronto.\n> \n> Espero que estas informações sejam úteis! Para mais detalhes, visite o site da Prefeitura de Três Corações ou entre em contato com os serviços municipais.\n"
          },
          "metadata": {}
        },
        {
          "output_type": "stream",
          "name": "stdout",
          "text": [
            "-----------------------------------------------------------\n",
            "\n",
            "--- Resultado do Agente 2 (Facilitador de Participação Cidadã) ---\n",
            "\n"
          ]
        },
        {
          "output_type": "display_data",
          "data": {
            "text/plain": [
              "<IPython.core.display.Markdown object>"
            ],
            "text/markdown": "> Com base nas informações fornecidas sobre Três Corações, podemos estruturar um plano de participação cidadã com foco nas necessidades e eventos locais.\n> \n> **1. Problemas Comuns Reportáveis:**\n> \n> *   **Infraestrutura:**\n>     *   Danos em vias (buracos não reportados, sinalização deficiente além da Ponte do Atalho).\n>     *   Iluminação pública (lâmpadas queimadas ou danificadas).\n>     *   Manutenção de áreas públicas (parques, praças).\n> *   **Serviços Urbanos:**\n>     *   Coleta de lixo irregular (pontos de descarte inadequado, horários não cumpridos).\n>     *   Problemas de saneamento (esgoto a céu aberto, vazamentos).\n> \n> **2. Melhorias Viáveis Sugeridas:**\n> \n> *   **Infraestrutura:**\n>     *   Acelerar a execução do projeto da nova estrutura para a Ponte do Atalho, mantendo a população informada sobre o andamento.\n>     *   Implementar um sistema de reporte online para danos em vias e iluminação pública, com prazos definidos para resolução.\n> *   **Serviços Urbanos:**\n>     *   Otimizar as rotas e horários da coleta de lixo com base em dados de geração de resíduos.\n>     *   Criar ecopontos para descarte correto de materiais recicláveis e volumosos.\n> *   **Eventos e Cultura:**\n>     *   Aproveitar a homenagem à ESA para promover eventos educativos sobre a história e importância da instituição para o município.\n> *   **Transparência e Acesso à Informação:**\n>     *   Divulgar de forma clara e acessível os editais de licitação e processos seletivos, incentivando a participação da comunidade.\n> \n> **3. Temas para Enquetes:**\n> \n> *   **Prioridades para Investimento:** \"Quais áreas da cidade devem receber prioridade nos investimentos em infraestrutura (recapeamento de vias, iluminação, etc.)?\"\n> *   **Opinião sobre Serviços:** \"Como você avalia a qualidade dos serviços de coleta de lixo e limpeza urbana em seu bairro?\"\n> *   **Propostas para Eventos:** \"Que tipo de evento cultural ou de lazer você gostaria de ver realizado na Praça Odilon?\"\n> *   **Avaliação de Projetos:** \"Qual sua opinião sobre o projeto da nova estrutura para a Ponte do Atalho? Tem sugestões?\"\n> \n> **4. Oportunidades de Voluntariado:**\n> \n> *   **Eventos:**\n>     *   Auxílio na organização de eventos culturais e comemorativos (Dia da Luta Antimanicomial, homenagem à ESA).\n>     *   Voluntários para campanhas de vacinação e saúde pública.\n> *   **Meio Ambiente:**\n>     *   Mutirões de limpeza em áreas públicas e rios.\n>     *   Programas de educação ambiental em escolas.\n> *   **Assistência Social:**\n>     *   Voluntários para auxiliar em programas de apoio a famílias em vulnerabilidade.\n> \n> **5. Exemplos de Participação Cidadã Bem-Sucedidos (Pesquisa):**\n> \n> *   **Orçamento Participativo:** Cidades como Betim (MG) implementaram com sucesso o Orçamento Participativo, onde a população decide como parte do orçamento municipal será investida.\n> *   **Plataformas Online de Participação:** Diversos municípios utilizam plataformas online para consultas públicas, enquetes e recebimento de sugestões (ex: Colab, Cidadela).\n> *   **Conselhos Municipais:** Fortalecer os conselhos existentes (Saúde, Educação, Meio Ambiente) e garantir a participação ativa da sociedade civil.\n> \n> **6. Plano Estruturado de Participação Cidadã:**\n> \n> *   **Canais de Comunicação:**\n>     *   **Plataforma Online:**\n>         *   Formulário para reportar problemas (infraestrutura, serviços urbanos).\n>         *   Espaço para sugestões e propostas.\n>         *   Enquetes e votações sobre projetos locais.\n>         *   Calendário de eventos e oportunidades de voluntariado.\n>     *   **Redes Sociais:** Divulgação de informações, enquetes rápidas, espaço para comentários e interação.\n>     *   **Canais Presenciais:**\n>         *   Reuniões comunitárias regulares em diferentes bairros.\n>         *   Atendimento presencial na UAI para auxílio com a plataforma online e recebimento de demandas.\n> *   **Formulários Sugeridos:**\n>     *   **Reporte de Problemas:**\n>         *   Tipo de problema (buraco, iluminação, lixo, etc.).\n>         *   Localização exata (endereço, ponto de referência).\n>         *   Descrição detalhada do problema.\n>         *   Fotos (opcional).\n>         *   Dados de contato (para feedback).\n>     *   **Sugestões e Propostas:**\n>         *   Título da sugestão/proposta.\n>         *   Descrição detalhada.\n>         *   Justificativa (benefícios esperados).\n>         *   Dados de contato (para feedback).\n> *   **Fluxo de Feedback:**\n>     1.  **Recebimento:** Confirmação imediata do recebimento da demanda (online ou presencial).\n>     2.  **Análise:** Avaliação da demanda pela área responsável (ex: Secretaria de Obras, Meio Ambiente).\n>     3.  **Resposta:** Informar o cidadão sobre o status da demanda (em análise, encaminhada para solução, etc.) em um prazo máximo de [prazo a definir].\n>     4.  **Solução:** Execução da solução (se aplicável) e comunicação ao cidadão.\n>     5.  **Avaliação:** Solicitar feedback do cidadão sobre a solução implementada.\n> \n> Ao implementar este plano, Três Corações pode fortalecer a participação cidadã, melhorar a qualidade dos serviços públicos e construir uma cidade mais engajada e democrática.\n> \n"
          },
          "metadata": {}
        },
        {
          "output_type": "stream",
          "name": "stdout",
          "text": [
            "-----------------------------------------------------------\n",
            "\n",
            "--- Resultado do Agente 3 (Promotor de Desenvolvimento Econômico Local) ---\n",
            "\n"
          ]
        },
        {
          "output_type": "display_data",
          "data": {
            "text/plain": [
              "<IPython.core.display.Markdown object>"
            ],
            "text/markdown": "> ## Três Corações no Rumo do Desenvolvimento Econômico Local com a Nossa Plataforma Cidadã!\n> \n> Olá, moradores de Três Corações! Que tal usarmos a força da nossa comunidade para impulsionar a economia local? Com a nossa Plataforma Cidadã Integrada, podemos juntos criar um futuro mais próspero para todos!\n> \n> **Oportunidades ao Seu Alcance:**\n> \n> *   **Pequenos Negócios:** Sua paixão pode virar negócio! A plataforma te ajuda a divulgar seus produtos e serviços para toda a cidade. Imagine a Dona Maria, que faz bolos deliciosos, alcançando novos clientes em todos os bairros!\n> *   **Produtores Rurais:** Do campo direto para a mesa do consumidor! Crie sua vitrine virtual e venda seus produtos frescos para quem valoriza o sabor local. Que tal o Seu João, que planta morangos incríveis, expandindo sua clientela sem intermediários?\n> *   **Artesãos:** Sua arte merece ser reconhecida! Mostre seus trabalhos únicos e encante moradores e turistas. A artesã Ana, que cria peças de cerâmica maravilhosas, pode ter sua arte valorizada e apreciada por todos.\n> *   **Prestadores de Serviço:** Encontre mais clientes e expanda seu alcance! Ofereça seus serviços de forma fácil e prática. O José, que é um excelente eletricista, pode ser encontrado rapidamente por quem precisa de seus serviços.\n> \n> **Conectando Pontas, Fortalecendo Vínculos:**\n> \n> A Plataforma Cidadã é a ponte entre quem produz e quem consome em Três Corações. Queremos criar um ciclo virtuoso onde o dinheiro circula na nossa cidade, gerando empregos e renda para todos.\n> \n> *   **Feiras e Eventos:** Que tal um calendário anual de eventos para celebrar o que Três Corações tem de melhor?\n>     *   **Feira de Produtos Locais:** Todo mês, um espaço para produtores rurais, artesãos e pequenos negócios mostrarem seus produtos.\n>     *   **Festivais Gastronômicos:** Explore os sabores da nossa terra com pratos típicos e ingredientes frescos.\n>     *   **Eventos Culturais:** Música, dança, teatro e outras manifestações artísticas para valorizar nossos talentos locais.\n>     *   **Feira de Artesanato:** Exposição e venda de peças únicas, feitas com amor e criatividade.\n> \n> **Inspirando-se em Casos de Sucesso:**\n> \n> Em cidades como Betim (MG), a implementação do Orçamento Participativo permitiu que a população decidisse como investir os recursos públicos, priorizando projetos que beneficiaram diretamente a comunidade. Outros municípios utilizam plataformas online para consultas públicas, enquetes e recebimento de sugestões, fortalecendo a participação cidadã e a transparência na gestão pública.\n> \n> **Capacitação e Microcrédito: Ferramentas para o Sucesso:**\n> \n> Acreditamos que o conhecimento é a chave para o crescimento. Por isso, vamos mapear e divulgar cursos de capacitação e oportunidades de microcrédito disponíveis na região.\n> \n> *   **Cursos de Empreendedorismo:** Aprenda a gerenciar seu negócio, desde o planejamento até a divulgação.\n> *   **Oficinas de Artesanato:** Aprimore suas habilidades e crie produtos ainda mais incríveis.\n> *   **Microcrédito:** Encontre linhas de crédito com juros acessíveis para investir no seu negócio.\n> \n> **Ações Práticas para Começar Já:**\n> \n> 1.  **Cadastre-se na Plataforma:** Crie seu perfil e divulgue seus produtos/serviços.\n> 2.  **Participe das Enquetes:** Dê sua opinião sobre as prioridades para o desenvolvimento da cidade.\n> 3.  **Sugira Melhorias:** Use a plataforma para reportar problemas e propor soluções.\n> 4.  **Voluntarie-se:** Ajude a organizar eventos e projetos que beneficiem a comunidade.\n> \n> **Juntos, podemos transformar Três Corações em um exemplo de desenvolvimento econômico local!**\n"
          },
          "metadata": {}
        },
        {
          "output_type": "stream",
          "name": "stdout",
          "text": [
            "-----------------------------------------------------------\n",
            "\n",
            "--- Resultado do Agente 4 (Descomplicador de Processos Municipais) ---\n",
            "\n"
          ]
        },
        {
          "output_type": "display_data",
          "data": {
            "text/plain": [
              "<IPython.core.display.Markdown object>"
            ],
            "text/markdown": "> ## Guia Simplificado de Serviços Municipais em Três Corações\n> \n> Olá, cidadão tricordiano! Para facilitar seu dia a dia, preparamos um guia prático de como acessar alguns serviços importantes da nossa cidade através da Plataforma Cidadã Integrada.\n> \n> **1. Licenças Simplificadas (Ambulante, Pequenas Reformas):**\n> \n> Se você deseja trabalhar como ambulante ou precisa realizar pequenas reformas em sua casa ou comércio, siga este passo a passo simplificado:\n> \n> *   **Passo 1: Cadastro na Plataforma Cidadã:** Acesse a plataforma (se já não tiver), e faça seu cadastro. Tenha em mãos seus documentos pessoais (RG, CPF, comprovante de residência) e os dados da sua atividade ou do imóvel a ser reformado.\n> *   **Passo 2: Solicitação Online:** Na plataforma, procure pela seção de \"Licenças e Alvarás\". Lá, você encontrará as opções de \"Licença para Ambulante\" ou \"Licença para Pequenas Reformas\". Selecione a opção desejada.\n> *   **Passo 3: Preenchimento do Formulário:** Preencha o formulário online com as informações solicitadas. Seja o mais claro e detalhado possível na descrição da sua atividade ou da reforma.\n> *   **Passo 4: Anexar Documentos:** Digitalize e anexe os documentos necessários. Para ambulantes, geralmente são exigidos RG, CPF, comprovante de residência e comprovante de inscrição no Cadastro Municipal de Ambulantes (se houver). Para pequenas reformas, pode ser necessário apresentar a planta do imóvel e um breve descritivo da obra.\n> *   **Passo 5: Pagamento da Taxa (se houver):** A plataforma irá gerar um boleto para o pagamento da taxa de emissão da licença, caso seja aplicável. Efetue o pagamento.\n> *   **Passo 6: Acompanhamento da Solicitação:** Acompanhe o andamento da sua solicitação na plataforma. Você receberá notificações sobre o status do processo.\n> *   **Passo 7: Recebimento da Licença:** Após a aprovação, a licença será disponibilizada na plataforma para download e impressão. Em alguns casos, poderá ser enviada para o seu endereço.\n> \n> **2. Inscrição em Programas Sociais Municipais:**\n> \n> Para se inscrever nos programas sociais oferecidos pela Prefeitura de Três Corações, siga estas orientações:\n> \n> *   **Passo 1: Informações sobre os Programas:** Acesse a Plataforma Cidadã e procure pela seção de \"Programas Sociais\". Lá, você encontrará a lista completa dos programas disponíveis, com informações sobre os critérios de elegibilidade, os benefícios oferecidos e os documentos necessários.\n> *   **Passo 2: Cadastro no Cadastro Único (CadÚnico):** Para a maioria dos programas sociais, é necessário estar cadastrado no CadÚnico. Se você ainda não possui cadastro, procure o CRAS (Centro de Referência de Assistência Social) mais próximo da sua casa para realizar o cadastro. Leve seus documentos pessoais (RG, CPF, Carteira de Trabalho, comprovante de residência, certidão de nascimento ou casamento) e os documentos de todos os membros da sua família.\n> *   **Passo 3: Inscrição Online (se disponível):** Alguns programas sociais permitem a inscrição online através da Plataforma Cidadã. Verifique se o programa desejado oferece essa opção.\n> *   **Passo 4: Comparecimento ao CRAS (se necessário):** Em alguns casos, mesmo com a inscrição online, pode ser necessário comparecer ao CRAS para apresentar documentos ou participar de entrevistas. A plataforma informará se essa etapa é necessária.\n> *   **Passo 5: Acompanhamento da Inscrição:** Acompanhe o andamento da sua inscrição na plataforma ou diretamente no CRAS.\n> \n> **3. Acesso a Outros Serviços Municipais:**\n> \n> A Plataforma Cidadã Integrada oferece acesso a diversos outros serviços municipais. Para acessá-los, siga estas orientações gerais:\n> \n> *   **Documentação Necessária:** Consulte a lista de documentos necessários para cada serviço na plataforma. Geralmente, são exigidos documentos pessoais (RG, CPF, comprovante de residência), comprovantes de renda (se aplicável) e outros documentos específicos de acordo com o serviço.\n> *   **Agendamento Online:** Alguns serviços exigem agendamento prévio. Verifique a disponibilidade de horários e agende seu atendimento na plataforma.\n> *   **Atendimento Presencial:** Para serviços que não estão disponíveis online, dirija-se ao setor responsável na Prefeitura ou em outros órgãos municipais. Leve todos os documentos necessários e siga as orientações dos atendentes.\n> \n> **4. Propostas de Melhorias nos Fluxos de Atendimento:**\n> \n> Para tornar os serviços municipais ainda mais eficientes, sugerimos as seguintes melhorias:\n> \n> *   **Ampliação do Atendimento Online:** Expandir a oferta de serviços online, permitindo que os cidadãos resolvam suas demandas sem precisar sair de casa.\n> *   **Centralização das Informações:** Criar um sistema unificado de informações sobre todos os serviços municipais, facilitando o acesso e a compreensão dos cidadãos.\n> *   **Capacitação dos Servidores:** Oferecer treinamento contínuo aos servidores para que eles possam atender os cidadãos de forma mais eficiente e cordial.\n> *   **Canais de Comunicação:** Implementar canais de comunicação eficientes (telefone, e-mail, chat online) para que os cidadãos possam tirar dúvidas e obter informações sobre os serviços.\n> *   **Pesquisa de Satisfação:** Realizar pesquisas de satisfação para identificar os pontos fortes e fracos dos serviços e implementar melhorias contínuas.\n> \n> Com a colaboração de todos, podemos construir uma Três Corações cada vez melhor para se viver!\n"
          },
          "metadata": {}
        },
        {
          "output_type": "stream",
          "name": "stdout",
          "text": [
            "-----------------------------------------------------------\n",
            "✅ Plataforma Cidadã Integrada para Municípios Pequenos criada com sucesso! ✅\n"
          ]
        }
      ]
    }
  ]
}